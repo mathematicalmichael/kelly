{
 "cells": [
  {
   "cell_type": "code",
   "execution_count": 7,
   "metadata": {},
   "outputs": [],
   "source": [
    "# HIDDEN\n",
    "\n",
    "# from IPython.display import HTML \n",
    "# HTML(\"\"\"<script>code_show=true; function code_toggle() { if (code_show){ $('div.input').hide(); } else { $('div.input').show(); } code_show = !code_show} $( document ).ready(code_toggle);</script><form action=\"javascript:code_toggle()\"><input type=\"submit\" value=\"\"></form>\"\"\" )"
   ]
  },
  {
   "cell_type": "code",
   "execution_count": 2,
   "metadata": {},
   "outputs": [
    {
     "data": {
      "application/javascript": [
       "if (typeof Jupyter !== \"undefined\") {require.undef(\"nbextensions/vpython_libraries/glow.min\");}else{element.textContent = ' ';}"
      ],
      "text/plain": [
       "<IPython.core.display.Javascript object>"
      ]
     },
     "metadata": {},
     "output_type": "display_data"
    },
    {
     "data": {
      "application/javascript": [
       "if (typeof Jupyter !== \"undefined\") {require.undef(\"nbextensions/vpython_libraries/glowcomm\");}else{element.textContent = ' ';}"
      ],
      "text/plain": [
       "<IPython.core.display.Javascript object>"
      ]
     },
     "metadata": {},
     "output_type": "display_data"
    },
    {
     "data": {
      "application/javascript": [
       "if (typeof Jupyter !== \"undefined\") {require.undef(\"nbextensions/vpython_libraries/jquery-ui.custom.min\");}else{element.textContent = ' ';}"
      ],
      "text/plain": [
       "<IPython.core.display.Javascript object>"
      ]
     },
     "metadata": {},
     "output_type": "display_data"
    },
    {
     "data": {
      "application/javascript": [
       "if (typeof Jupyter !== \"undefined\") {require([\"nbextensions/vpython_libraries/glow.min\"], function(){console.log(\"GLOW LOADED\");});}else{element.textContent = ' ';}"
      ],
      "text/plain": [
       "<IPython.core.display.Javascript object>"
      ]
     },
     "metadata": {},
     "output_type": "display_data"
    },
    {
     "data": {
      "application/javascript": [
       "if (typeof Jupyter !== \"undefined\") {require([\"nbextensions/vpython_libraries/glowcomm\"], function(){console.log(\"GLOWCOMM LOADED\");});}else{element.textContent = ' ';}"
      ],
      "text/plain": [
       "<IPython.core.display.Javascript object>"
      ]
     },
     "metadata": {},
     "output_type": "display_data"
    },
    {
     "data": {
      "application/javascript": [
       "if (typeof Jupyter !== \"undefined\") {require([\"nbextensions/vpython_libraries/jquery-ui.custom.min\"], function(){console.log(\"JQUERY LOADED\");});}else{element.textContent = ' ';}"
      ],
      "text/plain": [
       "<IPython.core.display.Javascript object>"
      ]
     },
     "metadata": {},
     "output_type": "display_data"
    },
    {
     "data": {
      "text/html": [
       "<div id=\"glowscript\" class=\"glowscript\"></div>"
      ],
      "text/plain": [
       "<IPython.core.display.HTML object>"
      ]
     },
     "metadata": {},
     "output_type": "display_data"
    },
    {
     "data": {
      "application/javascript": [
       "if (typeof Jupyter !== \"undefined\") { window.__context = { glowscript_container: $(\"#glowscript\").removeAttr(\"id\")};}else{ element.textContent = ' ';}"
      ],
      "text/plain": [
       "<IPython.core.display.Javascript object>"
      ]
     },
     "metadata": {},
     "output_type": "display_data"
    }
   ],
   "source": [
    "# HIDDEN\n",
    "# !pip install vpython\n",
    "from vpython import *\n",
    "import ipywidgets as wd\n",
    "import numpy as np"
   ]
  },
  {
   "cell_type": "code",
   "execution_count": 3,
   "metadata": {},
   "outputs": [],
   "source": [
    "# HIDDEN\n",
    "def arrow_head(width=1, height=2, inset=0, rot=0):\n",
    "    top_point = (0,height,0)\n",
    "    bottom_point = (0,inset,0)\n",
    "    left_point = (-width/2, 0, 0)\n",
    "    right_point = (width/2, 0, 0)\n",
    "    arrow_shape = shapes.points(pos=[bottom_point,left_point,top_point, right_point], \n",
    "                         rotate=rot*pi/2)\n",
    "    return arrow_shape"
   ]
  },
  {
   "cell_type": "code",
   "execution_count": 4,
   "metadata": {
    "scrolled": false
   },
   "outputs": [
    {
     "data": {
      "text/html": [
       "<div id=\"glowscript\" class=\"glowscript\"></div>"
      ],
      "text/plain": [
       "<IPython.core.display.HTML object>"
      ]
     },
     "metadata": {},
     "output_type": "display_data"
    },
    {
     "data": {
      "application/javascript": [
       "if (typeof Jupyter !== \"undefined\") { window.__context = { glowscript_container: $(\"#glowscript\").removeAttr(\"id\")};}else{ element.textContent = ' ';}"
      ],
      "text/plain": [
       "<IPython.core.display.Javascript object>"
      ]
     },
     "metadata": {},
     "output_type": "display_data"
    }
   ],
   "source": [
    "scene = canvas()"
   ]
  },
  {
   "cell_type": "code",
   "execution_count": 5,
   "metadata": {},
   "outputs": [],
   "source": [
    "# HIDDEN\n",
    "shaft_diam = wd.FloatSlider(value=2.375, min=0.5, max=4, step=0.125, continuous_update=False, description='diam (in)', readout_foramat='%1.3f')\n",
    "shaft_thickness = wd.FloatSlider(value=3, min=1, max=8, step=1, continuous_update=False, description='depth (1/8in)')\n",
    "sheet_thickness = wd.FloatSlider(value=2, min=1, max=8, step=1, continuous_update=False, description='thick (1/8in)')\n",
    "\n",
    "shaft_length = wd.FloatSlider(value=10, min=13, max=16, step=0.25, continuous_update=False, description='length (ft)')\n",
    "head_position = wd.FloatSlider(value=0, min=0, max=3, step=0.25, continuous_update=False, description='head (ft)')\n",
    "tail_position = wd.FloatSlider(value=0, min=0, max=5, step=0.25, continuous_update=False, description='tail (ft)')\n",
    "\n",
    "arrow_width = wd.FloatSlider(value=1.5, min=0.5, max=3, step=0.25, continuous_update=False, description='head width')\n",
    "arrow_height = wd.FloatSlider(value=3, min=0.5, max=5, step=0.25, continuous_update=False, description='head height')\n",
    "arrow_inset = wd.FloatSlider(value=0.5, min=0, max=3, step=0.25, continuous_update=False, description='head inset')\n",
    "\n",
    "tail_width = wd.FloatSlider(value=1, min=0.5, max=3, step=0.25, continuous_update=False, description='tail width')\n",
    "tail_height = wd.FloatSlider(value=2, min=0.5, max=5, step=0.25, continuous_update=False, description='tail height')\n",
    "\n",
    "run_button = wd.Button(description=\"Run!\")\n",
    "\n",
    "scene.background = color.gray(0.8)\n",
    "scene.forward = vec(0,-0.2,-1)\n",
    "scene.fov = 0.2\n",
    "scene.range = 3.8\n",
    "scene.caption = \"\"\"Right button drag or Ctrl-drag to rotate \"camera\" to view scene.\n",
    "To zoom, drag with middle button or Alt/Option depressed, or use scroll wheel.\n",
    "     On a two-button mouse, middle is left + right.\n",
    "Shift-drag to pan left/right and up/down.\n",
    "Touch screen: pinch/extend to zoom, swipe or two-finger rotate.\\n\"\"\"\n",
    "\n",
    "\n",
    "def update(*args):\n",
    "    for obj in scene.objects:\n",
    "        obj.visible = False\n",
    "        del obj\n",
    "    tube = extrusion(path=[vec(0,0,0), vec(shaft_length.value,0,0)], \n",
    "                 shape=shapes.circle(radius=0.5*shaft_diam.value/12, \n",
    "                                     thickness=(shaft_thickness.value/8)/12),\n",
    "                 pos=vec(0,0,0), axis=vec(1,0,0), \n",
    "                 color=color.yellow, \n",
    "                 end_face_color=color.blue)\n",
    "\n",
    "    \n",
    "    metal_width = sheet_thickness.value/12/8 # convert to feet \n",
    "    arrow_wd, arrow_ht = arrow_width.value, arrow_height.value\n",
    "    ns = arrow_inset.value\n",
    "    arrow_depth, tail_depth = head_position.value, tail_position.value\n",
    "    arrow_shape = arrow_head(width=arrow_wd, height=arrow_ht, inset=ns)\n",
    "    head = extrusion(path=[vec(0,0,0), vec(metal_width,0,0)],\n",
    "                    shape=arrow_shape,\n",
    "                    axis=vec(0,1,0), \n",
    "                    pos=vec(shaft_length.value/2+arrow_ht/2 - arrow_depth,0,0),\n",
    "                    texture=textures.metal\n",
    "                   )\n",
    "    \n",
    "    tail_wd, tail_ht = tail_width.value, tail_height.value\n",
    "    n=100\n",
    "    sinpath=[vec(np.sin((i/n)*2*np.pi),0,0) for i in range(n)]\n",
    "    #     tail = extrusion(path=[vec(0,0,0), vec(metal_width,0,0)],\n",
    "    tail = extrusion(path=sinpath,\n",
    "                    shape=shapes.rectangle(height=tail_ht, width=tail_wd),\n",
    "                    axis=vec(0,1,0), \n",
    "                    pos=vec(-shaft_length.value/2-tail_ht/2 + tail_depth,0,0),\n",
    "                   )\n",
    "\n",
    "\n",
    "scene.waitfor('textures')\n",
    "\n",
    "run_button.on_click(update)"
   ]
  },
  {
   "cell_type": "code",
   "execution_count": 6,
   "metadata": {
    "scrolled": true
   },
   "outputs": [
    {
     "data": {
      "application/vnd.jupyter.widget-view+json": {
       "model_id": "87f31b04dfc6405f9c5adf53c69ad0f3",
       "version_major": 2,
       "version_minor": 0
      },
      "text/plain": [
       "HBox(children=(VBox(children=(FloatSlider(value=13.0, continuous_update=False, description='length (ft)', max=…"
      ]
     },
     "metadata": {},
     "output_type": "display_data"
    }
   ],
   "source": [
    "wd.HBox([\n",
    "    wd.VBox([shaft_length, shaft_diam, shaft_thickness, sheet_thickness]),\n",
    "    wd.VBox([head_position, arrow_width, arrow_height, arrow_inset]),\n",
    "    wd.VBox([tail_position, tail_width, tail_height, run_button])\n",
    "    ])"
   ]
  },
  {
   "cell_type": "code",
   "execution_count": null,
   "metadata": {},
   "outputs": [],
   "source": [
    "\n"
   ]
  },
  {
   "cell_type": "code",
   "execution_count": null,
   "metadata": {},
   "outputs": [],
   "source": []
  }
 ],
 "metadata": {
  "kernelspec": {
   "display_name": "Python 3",
   "language": "python",
   "name": "python3"
  },
  "language_info": {
   "codemirror_mode": {
    "name": "ipython",
    "version": 3
   },
   "file_extension": ".py",
   "mimetype": "text/x-python",
   "name": "python",
   "nbconvert_exporter": "python",
   "pygments_lexer": "ipython3",
   "version": "3.6.7"
  }
 },
 "nbformat": 4,
 "nbformat_minor": 2
}
